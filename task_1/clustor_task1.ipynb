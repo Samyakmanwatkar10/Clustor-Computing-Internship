{
  "nbformat": 4,
  "nbformat_minor": 0,
  "metadata": {
    "colab": {
      "provenance": [],
      "toc_visible": true
    },
    "kernelspec": {
      "name": "python3",
      "display_name": "Python 3"
    },
    "language_info": {
      "name": "python"
    }
  },
  "cells": [
    {
      "cell_type": "code",
      "source": [
        "# Import necessary libraries\n",
        "import pandas as pd"
      ],
      "metadata": {
        "id": "7B4tFDlh3Umq"
      },
      "execution_count": null,
      "outputs": []
    },
    {
      "cell_type": "code",
      "source": [
        "# Load the dataset\n",
        "file_path = '/content/phone_usage_india.csv'  # Replace with the path to your raw dataset\n",
        "df = pd.read_csv(file_path)"
      ],
      "metadata": {
        "id": "HvMGfC5U4RMS"
      },
      "execution_count": null,
      "outputs": []
    },
    {
      "cell_type": "code",
      "source": [
        "# 1. Data Overview\n",
        "# Check for null values, duplicate rows, and data types\n",
        "print(\"Initial Dataset Overview:\")\n",
        "print(\"Null Values:\\n\", df.isnull().sum())\n",
        "print(\"Duplicates:\", df.duplicated().sum())\n",
        "print(\"Data Types:\\n\", df.dtypes)"
      ],
      "metadata": {
        "colab": {
          "base_uri": "https://localhost:8080/"
        },
        "id": "umYDr1df4aPX",
        "outputId": "e7f0ae12-2b90-4712-c937-894c553a15e8"
      },
      "execution_count": null,
      "outputs": [
        {
          "output_type": "stream",
          "name": "stdout",
          "text": [
            "Initial Dataset Overview:\n",
            "Null Values:\n",
            " User ID                         0\n",
            "Age                             0\n",
            "Gender                          0\n",
            "Location                        0\n",
            "Phone Brand                     0\n",
            "OS                              0\n",
            "Screen Time (hrs/day)           0\n",
            "Data Usage (GB/month)           0\n",
            "Calls Duration (mins/day)       0\n",
            "Number of Apps Installed        0\n",
            "Social Media Time (hrs/day)     0\n",
            "E-commerce Spend (INR/month)    0\n",
            "Streaming Time (hrs/day)        0\n",
            "Gaming Time (hrs/day)           0\n",
            "Monthly Recharge Cost (INR)     0\n",
            "Primary Use                     0\n",
            "dtype: int64\n",
            "Duplicates: 0\n",
            "Data Types:\n",
            " User ID                          object\n",
            "Age                               int64\n",
            "Gender                           object\n",
            "Location                         object\n",
            "Phone Brand                      object\n",
            "OS                               object\n",
            "Screen Time (hrs/day)           float64\n",
            "Data Usage (GB/month)           float64\n",
            "Calls Duration (mins/day)       float64\n",
            "Number of Apps Installed          int64\n",
            "Social Media Time (hrs/day)     float64\n",
            "E-commerce Spend (INR/month)      int64\n",
            "Streaming Time (hrs/day)        float64\n",
            "Gaming Time (hrs/day)           float64\n",
            "Monthly Recharge Cost (INR)       int64\n",
            "Primary Use                      object\n",
            "dtype: object\n"
          ]
        }
      ]
    },
    {
      "cell_type": "code",
      "source": [
        "# 2. Handling Missing Data\n",
        "# Fill numerical columns with median and categorical columns with mode\n",
        "numerical_columns = df.select_dtypes(include=['float64', 'int64']).columns\n",
        "categorical_columns = df.select_dtypes(include=['object']).columns\n",
        "\n",
        "df[numerical_columns] = df[numerical_columns].fillna(df[numerical_columns].median())\n",
        "df[categorical_columns] = df[categorical_columns].fillna(df[categorical_columns].mode().iloc[0])\n",
        "\n",
        "print(\"\\nNull Values After Handling Missing Data:\\n\", df.isnull().sum())"
      ],
      "metadata": {
        "colab": {
          "base_uri": "https://localhost:8080/"
        },
        "id": "rlpgwiAD4gnn",
        "outputId": "edc5280c-ce47-45a6-f437-4067b645a2a5"
      },
      "execution_count": null,
      "outputs": [
        {
          "output_type": "stream",
          "name": "stdout",
          "text": [
            "\n",
            "Null Values After Handling Missing Data:\n",
            " User ID                         0\n",
            "Age                             0\n",
            "Gender                          0\n",
            "Location                        0\n",
            "Phone Brand                     0\n",
            "OS                              0\n",
            "Screen Time (hrs/day)           0\n",
            "Data Usage (GB/month)           0\n",
            "Calls Duration (mins/day)       0\n",
            "Number of Apps Installed        0\n",
            "Social Media Time (hrs/day)     0\n",
            "E-commerce Spend (INR/month)    0\n",
            "Streaming Time (hrs/day)        0\n",
            "Gaming Time (hrs/day)           0\n",
            "Monthly Recharge Cost (INR)     0\n",
            "Primary Use                     0\n",
            "dtype: int64\n"
          ]
        }
      ]
    },
    {
      "cell_type": "code",
      "source": [
        "# 3. Outlier Detection and Handling\n",
        "# Function to handle outliers using the IQR method\n",
        "def handle_outliers(col):\n",
        "    Q1 = df[col].quantile(0.25)\n",
        "    Q3 = df[col].quantile(0.75)\n",
        "    IQR = Q3 - Q1\n",
        "    lower_bound = Q1 - 1.5 * IQR\n",
        "    upper_bound = Q3 + 1.5 * IQR\n",
        "    df[col] = df[col].clip(lower_bound, upper_bound)\n",
        "\n",
        "# Apply outlier handling to selected columns\n",
        "outlier_columns = ['Screen Time (hrs/day)', 'Data Usage (GB/month)']  # Update as needed\n",
        "for col in outlier_columns:\n",
        "    handle_outliers(col)"
      ],
      "metadata": {
        "id": "AHffv2SJ4m-m"
      },
      "execution_count": null,
      "outputs": []
    },
    {
      "cell_type": "code",
      "source": [
        "# 4. Data Transformation\n",
        "# Convert 'Age' into categories (Youth, Adult, Senior)\n",
        "df['Age Group'] = pd.cut(df['Age'], bins=[15, 25, 50, 60], labels=['Youth', 'Adult', 'Senior'])\n",
        "\n",
        "# Normalize 'Monthly Recharge Cost (INR)'\n",
        "df['Normalized Recharge Cost'] = (df['Monthly Recharge Cost (INR)'] - df['Monthly Recharge Cost (INR)'].min()) / (\n",
        "        df['Monthly Recharge Cost (INR)'].max() - df['Monthly Recharge Cost (INR)'].min())"
      ],
      "metadata": {
        "id": "NlS8XhIR4uHn"
      },
      "execution_count": null,
      "outputs": []
    },
    {
      "cell_type": "code",
      "source": [
        "# 5. Logical Validation\n",
        "# Check and fix invalid categories in the 'Gender' column\n",
        "valid_genders = ['Male', 'Female', 'Other']\n",
        "df['Gender'] = df['Gender'].apply(lambda x: x if x in valid_genders else 'Other')\n",
        "\n",
        "# Final Dataset Overview\n",
        "print(\"\\nCleaned Dataset Overview:\")\n",
        "print(\"Null Values:\\n\", df.isnull().sum())\n",
        "print(df.describe(include='all'))\n",
        "\n",
        "# Save the cleaned dataset for Power BI visualization\n",
        "cleaned_file_path = '/content/cleaned_phone_usage_india.csv'  # Replace with the desired path\n",
        "df.to_csv(cleaned_file_path, index=False)\n",
        "print(f\"\\nCleaned dataset saved to {cleaned_file_path}\")"
      ],
      "metadata": {
        "id": "tClKp4QH4w6O",
        "outputId": "2cfd4a71-cc02-446f-bbe7-ac1ed80aef17",
        "colab": {
          "base_uri": "https://localhost:8080/"
        }
      },
      "execution_count": null,
      "outputs": [
        {
          "output_type": "stream",
          "name": "stdout",
          "text": [
            "\n",
            "Cleaned Dataset Overview:\n",
            "Null Values:\n",
            " User ID                           0\n",
            "Age                               0\n",
            "Gender                            0\n",
            "Location                          0\n",
            "Phone Brand                       0\n",
            "OS                                0\n",
            "Screen Time (hrs/day)             0\n",
            "Data Usage (GB/month)             0\n",
            "Calls Duration (mins/day)         0\n",
            "Number of Apps Installed          0\n",
            "Social Media Time (hrs/day)       0\n",
            "E-commerce Spend (INR/month)      0\n",
            "Streaming Time (hrs/day)          0\n",
            "Gaming Time (hrs/day)             0\n",
            "Monthly Recharge Cost (INR)       0\n",
            "Primary Use                       0\n",
            "Age Group                       396\n",
            "Normalized Recharge Cost          0\n",
            "dtype: int64\n",
            "       User ID           Age  Gender Location Phone Brand       OS  \\\n",
            "count    17686  17686.000000   17686    17686       17686    17686   \n",
            "unique   17686           NaN       3       10          10        2   \n",
            "top     U00001           NaN  Female   Jaipur       Nokia  Android   \n",
            "freq         1           NaN    5969     1824        1816     8851   \n",
            "mean       NaN     37.584247     NaN      NaN         NaN      NaN   \n",
            "std        NaN     13.338252     NaN      NaN         NaN      NaN   \n",
            "min        NaN     15.000000     NaN      NaN         NaN      NaN   \n",
            "25%        NaN     26.000000     NaN      NaN         NaN      NaN   \n",
            "50%        NaN     38.000000     NaN      NaN         NaN      NaN   \n",
            "75%        NaN     49.000000     NaN      NaN         NaN      NaN   \n",
            "max        NaN     60.000000     NaN      NaN         NaN      NaN   \n",
            "\n",
            "        Screen Time (hrs/day)  Data Usage (GB/month)  \\\n",
            "count            17686.000000           17686.000000   \n",
            "unique                    NaN                    NaN   \n",
            "top                       NaN                    NaN   \n",
            "freq                      NaN                    NaN   \n",
            "mean                 6.546376              25.411257   \n",
            "std                  3.172677              14.122167   \n",
            "min                  1.000000               1.000000   \n",
            "25%                  3.800000              13.200000   \n",
            "50%                  6.600000              25.300000   \n",
            "75%                  9.300000              37.600000   \n",
            "max                 12.000000              50.000000   \n",
            "\n",
            "        Calls Duration (mins/day)  Number of Apps Installed  \\\n",
            "count                17686.000000              17686.000000   \n",
            "unique                        NaN                       NaN   \n",
            "top                           NaN                       NaN   \n",
            "freq                          NaN                       NaN   \n",
            "mean                   151.405846                104.584869   \n",
            "std                     84.923353                 55.217097   \n",
            "min                      5.000000                 10.000000   \n",
            "25%                     77.325000                 57.000000   \n",
            "50%                    150.600000                104.000000   \n",
            "75%                    223.900000                152.000000   \n",
            "max                    300.000000                200.000000   \n",
            "\n",
            "        Social Media Time (hrs/day)  E-commerce Spend (INR/month)  \\\n",
            "count                  17686.000000                  17686.000000   \n",
            "unique                          NaN                           NaN   \n",
            "top                             NaN                           NaN   \n",
            "freq                            NaN                           NaN   \n",
            "mean                       3.252369                   5075.707848   \n",
            "std                        1.590223                   2871.604841   \n",
            "min                        0.500000                    100.000000   \n",
            "25%                        1.900000                   2587.500000   \n",
            "50%                        3.200000                   5052.000000   \n",
            "75%                        4.600000                   7606.000000   \n",
            "max                        6.000000                  10000.000000   \n",
            "\n",
            "        Streaming Time (hrs/day)  Gaming Time (hrs/day)  \\\n",
            "count               17686.000000           17686.000000   \n",
            "unique                       NaN                    NaN   \n",
            "top                          NaN                    NaN   \n",
            "freq                         NaN                    NaN   \n",
            "mean                    4.250616               2.490874   \n",
            "std                     2.155683               1.446003   \n",
            "min                     0.500000               0.000000   \n",
            "25%                     2.400000               1.200000   \n",
            "50%                     4.200000               2.500000   \n",
            "75%                     6.100000               3.700000   \n",
            "max                     8.000000               5.000000   \n",
            "\n",
            "        Monthly Recharge Cost (INR) Primary Use Age Group  \\\n",
            "count                  17686.000000       17686     17290   \n",
            "unique                          NaN           5         3   \n",
            "top                             NaN   Education     Adult   \n",
            "freq                            NaN        3601      9514   \n",
            "mean                    1042.785367         NaN       NaN   \n",
            "std                      552.502067         NaN       NaN   \n",
            "min                      100.000000         NaN       NaN   \n",
            "25%                      561.000000         NaN       NaN   \n",
            "50%                     1040.000000         NaN       NaN   \n",
            "75%                     1521.750000         NaN       NaN   \n",
            "max                     2000.000000         NaN       NaN   \n",
            "\n",
            "        Normalized Recharge Cost  \n",
            "count               17686.000000  \n",
            "unique                       NaN  \n",
            "top                          NaN  \n",
            "freq                         NaN  \n",
            "mean                    0.496203  \n",
            "std                     0.290791  \n",
            "min                     0.000000  \n",
            "25%                     0.242632  \n",
            "50%                     0.494737  \n",
            "75%                     0.748289  \n",
            "max                     1.000000  \n",
            "\n",
            "Cleaned dataset saved to /content/cleaned_phone_usage_india.csv\n"
          ]
        }
      ]
    }
  ]
}